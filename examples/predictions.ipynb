{
 "cells": [
  {
   "cell_type": "code",
   "execution_count": 1,
   "metadata": {
    "ExecuteTime": {
     "end_time": "2021-10-21T13:14:05.741758Z",
     "start_time": "2021-10-21T13:14:04.410425Z"
    },
    "scrolled": true
   },
   "outputs": [],
   "source": [
    "import eos"
   ]
  },
  {
   "cell_type": "markdown",
   "metadata": {},
   "source": [
    "# Theory Predictions and their Uncertainties"
   ]
  },
  {
   "cell_type": "markdown",
   "metadata": {},
   "source": [
    "EOS can produce theory predictions for any of its built-in observables. The examples following in this section illustrate how to find a specific observable from the list of all built-in observables, construct an ``Observable`` object and evaluate it, and estimate the theoretical uncertainties associated with it."
   ]
  },
  {
   "cell_type": "markdown",
   "metadata": {},
   "source": [
    "## Listing the built-in Observables"
   ]
  },
  {
   "cell_type": "markdown",
   "metadata": {},
   "source": [
    "You can show the list of observables using the ``Observables`` class. Searching for a specific observable is possible by filtering for specific strings in the observable name’s *prefix*, *name*, or *suffix* parts. The following example only shows observables that contain a `'D'` in the prefix part and `'BR'` in the name part:"
   ]
  },
  {
   "cell_type": "code",
   "execution_count": 2,
   "metadata": {
    "ExecuteTime": {
     "end_time": "2021-10-21T13:14:05.769244Z",
     "start_time": "2021-10-21T13:14:05.744729Z"
    }
   },
   "outputs": [
    {
     "data": {
      "text/html": [
       "\n",
       "        <script>\n",
       "            function toggle_group(group_title, id) {\n",
       "                var table = group_title.parentNode.parentNode.parentNode.parentNode\n",
       "                var query = 'tbody[id=\"' + id + '\"]'\n",
       "                var group = table.querySelector(query)\n",
       "                if (group.style.visibility == \"collapse\") {\n",
       "                    group.style.visibility = \"visible\"\n",
       "                } else {\n",
       "                    group.style.visibility = \"collapse\"\n",
       "                }\n",
       "            }\n",
       "            function toggle_av(opt_anchor, id) {\n",
       "                var query_dots   = 'span.dots[id=\"' + id + '\"]'\n",
       "                var query_values = 'span.values[id=\"' + id + '\"]'\n",
       "                var dots   = opt_anchor.querySelector(query_dots)\n",
       "                var values = opt_anchor.querySelector(query_values)\n",
       "                if (dots.style.display == \"none\") {\n",
       "                    dots.style.display   = \"inline\"\n",
       "                    values.style.display = \"none\"\n",
       "                } else {\n",
       "                    dots.style.display   = \"none\"\n",
       "                    values.style.display = \"inline\"\n",
       "                }\n",
       "            }\n",
       "        </script>\n",
       "        <style>\n",
       "            td.qn     { text-align: left;   }\n",
       "            td.sym    { text-align: center; }\n",
       "            td.unit   { text-align: right;  }\n",
       "            td.optkey { text-align: left;   }\n",
       "            td.optav  { text-align: left;   }\n",
       "            td.optdef { text-align: left;   }\n",
       "        </style>\n",
       "        <table>\n",
       "            <colgroup>\n",
       "                <col width=\"25%\" id=\"qn\"          style=\"min-width: 200px; text-align: left\">\n",
       "                <col width=\"20%\" id=\"symbol\"      style=\"min-width: 200px\">\n",
       "                <col width=\"5%\"  id=\"unit\"        style=\"min-width:  50px\">\n",
       "                <col width=\"20%\" id=\"kv\"          style=\"min-width: 200px\">\n",
       "                <col width=\"10%\" id=\"opt-key\"     style=\"min-width:  75px\">\n",
       "                <col width=\"10%\" id=\"opt-allowed\" style=\"min-width:  75px\">\n",
       "                <col width=\"10%\" id=\"opt-default\" style=\"min-width:  75px\">\n",
       "            </colgroup>\n",
       "            <thead>\n",
       "                <tr>\n",
       "                    <th rowspan=\"2\">qualified name</th>\n",
       "                    <th rowspan=\"2\">symbol</th>\n",
       "                    <th rowspan=\"2\">unit</th>\n",
       "                    <th rowspan=\"2\">kinematic<br> variables</th>\n",
       "                    <th colspan=3>options</th>\n",
       "                </tr>\n",
       "                <tr>\n",
       "                    <th>key</th>\n",
       "                    <th>values</th>\n",
       "                    <th>default</th>\n",
       "                </tr>\n",
       "            </thead>\n",
       "        \n",
       "                <tr>\n",
       "                    <th style=\"text-align:left\" colspan=8><big>Observables in (semi)leptonic $b$-hadron decays</big></th>\n",
       "                </tr>\n",
       "                    <tbody>\n",
       "                        <tr>\n",
       "                            <th style=\"text-align:left\" colspan=8>\n",
       "                                <a style=\"text-decoration: none\" onclick=\"toggle_group(this, 'grp2')\">Observables in $B\\to \\bar{D} \\ell^-\\bar\\nu$ decays</a>\n",
       "                            </th>\n",
       "                        </tr>\n",
       "                    </tbody>\n",
       "                \n",
       "                    <tbody style=\"visibility:collapse\" id=\"grp2\">\n",
       "                    <tr>\n",
       "                        <td style=\"text-align:left\" colspan=8>The option \"l\" selects the charged lepton flavor. The option \"q\" selects the spectator quark flavor. The option \"form-factors\" selects the form factor parametrization.</td>\n",
       "                    </tr>\n",
       "                \n",
       "                        <tr>\n",
       "                            <th class=\"qn\"     rowspan=\"6\"><tt>B->Dlnu::BR</tt></th>\n",
       "                            <td class=\"sym\"    rowspan=\"6\">$$\\mathcal{B}(B\\to \\bar{D}\\ell^-\\bar\\nu)$$</td>\n",
       "                            <td class=\"unit\"   rowspan=\"6\">&mdash;</td>\n",
       "                            <td class=\"kv\"     rowspan=\"6\"><tt>q2_min</tt><br><tt>q2_max</tt></td>\n",
       "                            <td class=\"optkey\" rowspan=\"1\"><tt>model</tt></td>\n",
       "                            <td class=\"optav\"  rowspan=\"1\"><a onclick=\"toggle_av(this, 'grp2-obs0-opt0')\">\n",
       "                            <span class=\"dots\"   id=\"grp2-obs0-opt0\" style=\"display: inline; text-align: left\">...</span>\n",
       "                            <span class=\"values\" id=\"grp2-obs0-opt0\" style=\"display: none;   text-align: left\">\n",
       "                           <tt>CKM</tt><br/><tt>SM</tt><br/><tt>WET</tt><br/><tt>WET-SMEFT</tt>\n",
       "                            </span>\n",
       "                        </a></td>\n",
       "                            <td class=\"optdef\" rowspan=\"1\"><tt>SM</tt></td>\n",
       "                        </tr>\n",
       "                    \n",
       "                            <tr>\n",
       "                                <td class=\"optkey\" rowspan=\"1\"><tt>form-factors</tt></td>\n",
       "                                <td class=\"optav\"  rowspan=\"1\"><a onclick=\"toggle_av(this, 'grp2-obs0-opt1')\">\n",
       "                            <span class=\"dots\"   id=\"grp2-obs0-opt1\" style=\"display: inline; text-align: left\">...</span>\n",
       "                            <span class=\"values\" id=\"grp2-obs0-opt1\" style=\"display: none;   text-align: left\">\n",
       "                           <tt>B-LCSR</tt><br/><tt>BCL2008</tt><br/><tt>BCL2008-4</tt><br/><tt>BCL2008-5</tt><br/><tt>BFW2010</tt><br/><tt>BGL1997</tt><br/><tt>BSZ2015</tt><br/><tt>BZ2004v2</tt><br/><tt>BZ2004v2Split</tt><br/><tt>DKMMO2008</tt><br/><tt>HQET</tt><br/><tt>KMPW2010</tt>\n",
       "                            </span>\n",
       "                        </a></td>\n",
       "                                <td class=\"optdef\" rowspan=\"1\"><tt></tt></td>\n",
       "                            </tr>\n",
       "                        \n",
       "                            <tr>\n",
       "                                <td class=\"optkey\" rowspan=\"1\"><tt>l</tt></td>\n",
       "                                <td class=\"optav\"  rowspan=\"1\"><a onclick=\"toggle_av(this, 'grp2-obs0-opt2')\">\n",
       "                            <span class=\"dots\"   id=\"grp2-obs0-opt2\" style=\"display: inline; text-align: left\">...</span>\n",
       "                            <span class=\"values\" id=\"grp2-obs0-opt2\" style=\"display: none;   text-align: left\">\n",
       "                           <tt>e</tt><br/><tt>mu</tt><br/><tt>tau</tt>\n",
       "                            </span>\n",
       "                        </a></td>\n",
       "                                <td class=\"optdef\" rowspan=\"1\"><tt>mu</tt></td>\n",
       "                            </tr>\n",
       "                        \n",
       "                            <tr>\n",
       "                                <td class=\"optkey\" rowspan=\"1\"><tt>U</tt></td>\n",
       "                                <td class=\"optav\"  rowspan=\"1\"><a onclick=\"toggle_av(this, 'grp2-obs0-opt3')\">\n",
       "                            <span class=\"dots\"   id=\"grp2-obs0-opt3\" style=\"display: inline; text-align: left\">...</span>\n",
       "                            <span class=\"values\" id=\"grp2-obs0-opt3\" style=\"display: none;   text-align: left\">\n",
       "                           <tt>c</tt><br/><tt>u</tt>\n",
       "                            </span>\n",
       "                        </a></td>\n",
       "                                <td class=\"optdef\" rowspan=\"1\"><tt>c</tt></td>\n",
       "                            </tr>\n",
       "                        \n",
       "                            <tr>\n",
       "                                <td class=\"optkey\" rowspan=\"1\"><tt>q</tt></td>\n",
       "                                <td class=\"optav\"  rowspan=\"1\"><a onclick=\"toggle_av(this, 'grp2-obs0-opt4')\">\n",
       "                            <span class=\"dots\"   id=\"grp2-obs0-opt4\" style=\"display: inline; text-align: left\">...</span>\n",
       "                            <span class=\"values\" id=\"grp2-obs0-opt4\" style=\"display: none;   text-align: left\">\n",
       "                           <tt>u</tt><br/><tt>d</tt><br/><tt>s</tt>\n",
       "                            </span>\n",
       "                        </a></td>\n",
       "                                <td class=\"optdef\" rowspan=\"1\"><tt>d</tt></td>\n",
       "                            </tr>\n",
       "                        \n",
       "                            <tr>\n",
       "                                <td class=\"optkey\" rowspan=\"1\"><tt>I</tt></td>\n",
       "                                <td class=\"optav\"  rowspan=\"1\"><a onclick=\"toggle_av(this, 'grp2-obs0-opt5')\">\n",
       "                            <span class=\"dots\"   id=\"grp2-obs0-opt5\" style=\"display: inline; text-align: left\">...</span>\n",
       "                            <span class=\"values\" id=\"grp2-obs0-opt5\" style=\"display: none;   text-align: left\">\n",
       "                           <tt>1</tt><br/><tt>0</tt><br/><tt>1/2</tt>\n",
       "                            </span>\n",
       "                        </a></td>\n",
       "                                <td class=\"optdef\" rowspan=\"1\"><tt>1</tt></td>\n",
       "                            </tr>\n",
       "                        \n",
       "                        <tr>\n",
       "                            <th class=\"qn\"     rowspan=\"6\"><tt>B->Dlnu::dBR/dq2</tt></th>\n",
       "                            <td class=\"sym\"    rowspan=\"6\">$$d\\mathcal{B}(B\\to \\bar{D}\\ell^-\\bar\\nu)/dq^2$$</td>\n",
       "                            <td class=\"unit\"   rowspan=\"6\">$$\\left[ \\textrm{GeV}^{-2} \\right]$$</td>\n",
       "                            <td class=\"kv\"     rowspan=\"6\"><tt>q2</tt></td>\n",
       "                            <td class=\"optkey\" rowspan=\"1\"><tt>model</tt></td>\n",
       "                            <td class=\"optav\"  rowspan=\"1\"><a onclick=\"toggle_av(this, 'grp2-obs1-opt0')\">\n",
       "                            <span class=\"dots\"   id=\"grp2-obs1-opt0\" style=\"display: inline; text-align: left\">...</span>\n",
       "                            <span class=\"values\" id=\"grp2-obs1-opt0\" style=\"display: none;   text-align: left\">\n",
       "                           <tt>CKM</tt><br/><tt>SM</tt><br/><tt>WET</tt><br/><tt>WET-SMEFT</tt>\n",
       "                            </span>\n",
       "                        </a></td>\n",
       "                            <td class=\"optdef\" rowspan=\"1\"><tt>SM</tt></td>\n",
       "                        </tr>\n",
       "                    \n",
       "                            <tr>\n",
       "                                <td class=\"optkey\" rowspan=\"1\"><tt>form-factors</tt></td>\n",
       "                                <td class=\"optav\"  rowspan=\"1\"><a onclick=\"toggle_av(this, 'grp2-obs1-opt1')\">\n",
       "                            <span class=\"dots\"   id=\"grp2-obs1-opt1\" style=\"display: inline; text-align: left\">...</span>\n",
       "                            <span class=\"values\" id=\"grp2-obs1-opt1\" style=\"display: none;   text-align: left\">\n",
       "                           <tt>B-LCSR</tt><br/><tt>BCL2008</tt><br/><tt>BCL2008-4</tt><br/><tt>BCL2008-5</tt><br/><tt>BFW2010</tt><br/><tt>BGL1997</tt><br/><tt>BSZ2015</tt><br/><tt>BZ2004v2</tt><br/><tt>BZ2004v2Split</tt><br/><tt>DKMMO2008</tt><br/><tt>HQET</tt><br/><tt>KMPW2010</tt>\n",
       "                            </span>\n",
       "                        </a></td>\n",
       "                                <td class=\"optdef\" rowspan=\"1\"><tt></tt></td>\n",
       "                            </tr>\n",
       "                        \n",
       "                            <tr>\n",
       "                                <td class=\"optkey\" rowspan=\"1\"><tt>l</tt></td>\n",
       "                                <td class=\"optav\"  rowspan=\"1\"><a onclick=\"toggle_av(this, 'grp2-obs1-opt2')\">\n",
       "                            <span class=\"dots\"   id=\"grp2-obs1-opt2\" style=\"display: inline; text-align: left\">...</span>\n",
       "                            <span class=\"values\" id=\"grp2-obs1-opt2\" style=\"display: none;   text-align: left\">\n",
       "                           <tt>e</tt><br/><tt>mu</tt><br/><tt>tau</tt>\n",
       "                            </span>\n",
       "                        </a></td>\n",
       "                                <td class=\"optdef\" rowspan=\"1\"><tt>mu</tt></td>\n",
       "                            </tr>\n",
       "                        \n",
       "                            <tr>\n",
       "                                <td class=\"optkey\" rowspan=\"1\"><tt>U</tt></td>\n",
       "                                <td class=\"optav\"  rowspan=\"1\"><a onclick=\"toggle_av(this, 'grp2-obs1-opt3')\">\n",
       "                            <span class=\"dots\"   id=\"grp2-obs1-opt3\" style=\"display: inline; text-align: left\">...</span>\n",
       "                            <span class=\"values\" id=\"grp2-obs1-opt3\" style=\"display: none;   text-align: left\">\n",
       "                           <tt>c</tt><br/><tt>u</tt>\n",
       "                            </span>\n",
       "                        </a></td>\n",
       "                                <td class=\"optdef\" rowspan=\"1\"><tt>c</tt></td>\n",
       "                            </tr>\n",
       "                        \n",
       "                            <tr>\n",
       "                                <td class=\"optkey\" rowspan=\"1\"><tt>q</tt></td>\n",
       "                                <td class=\"optav\"  rowspan=\"1\"><a onclick=\"toggle_av(this, 'grp2-obs1-opt4')\">\n",
       "                            <span class=\"dots\"   id=\"grp2-obs1-opt4\" style=\"display: inline; text-align: left\">...</span>\n",
       "                            <span class=\"values\" id=\"grp2-obs1-opt4\" style=\"display: none;   text-align: left\">\n",
       "                           <tt>u</tt><br/><tt>d</tt><br/><tt>s</tt>\n",
       "                            </span>\n",
       "                        </a></td>\n",
       "                                <td class=\"optdef\" rowspan=\"1\"><tt>d</tt></td>\n",
       "                            </tr>\n",
       "                        \n",
       "                            <tr>\n",
       "                                <td class=\"optkey\" rowspan=\"1\"><tt>I</tt></td>\n",
       "                                <td class=\"optav\"  rowspan=\"1\"><a onclick=\"toggle_av(this, 'grp2-obs1-opt5')\">\n",
       "                            <span class=\"dots\"   id=\"grp2-obs1-opt5\" style=\"display: inline; text-align: left\">...</span>\n",
       "                            <span class=\"values\" id=\"grp2-obs1-opt5\" style=\"display: none;   text-align: left\">\n",
       "                           <tt>1</tt><br/><tt>0</tt><br/><tt>1/2</tt>\n",
       "                            </span>\n",
       "                        </a></td>\n",
       "                                <td class=\"optdef\" rowspan=\"1\"><tt>1</tt></td>\n",
       "                            </tr>\n",
       "                            </tbody>\n",
       "                    <tbody>\n",
       "                        <tr>\n",
       "                            <th style=\"text-align:left\" colspan=8>\n",
       "                                <a style=\"text-decoration: none\" onclick=\"toggle_group(this, 'grp3')\">Observables in $B_s\\to \\bar{D_s} \\ell^-\\bar\\nu$ decays</a>\n",
       "                            </th>\n",
       "                        </tr>\n",
       "                    </tbody>\n",
       "                \n",
       "                    <tbody style=\"visibility:collapse\" id=\"grp3\">\n",
       "                    <tr>\n",
       "                        <td style=\"text-align:left\" colspan=8>The option \"l\" selects the charged lepton flavor.The option \"form-factors\" selects the form factor parametrization.</td>\n",
       "                    </tr>\n",
       "                \n",
       "                        <tr>\n",
       "                            <th class=\"qn\"     rowspan=\"6\"><tt>B_s->D_slnu::BR</tt></th>\n",
       "                            <td class=\"sym\"    rowspan=\"6\">$$\\mathcal{B}(B_s\\to \\bar{D}_s\\ell^-\\bar\\nu)$$</td>\n",
       "                            <td class=\"unit\"   rowspan=\"6\">&mdash;</td>\n",
       "                            <td class=\"kv\"     rowspan=\"6\"><tt>q2_min</tt><br><tt>q2_max</tt></td>\n",
       "                            <td class=\"optkey\" rowspan=\"1\"><tt>model</tt></td>\n",
       "                            <td class=\"optav\"  rowspan=\"1\"><a onclick=\"toggle_av(this, 'grp3-obs2-opt0')\">\n",
       "                            <span class=\"dots\"   id=\"grp3-obs2-opt0\" style=\"display: inline; text-align: left\">...</span>\n",
       "                            <span class=\"values\" id=\"grp3-obs2-opt0\" style=\"display: none;   text-align: left\">\n",
       "                           <tt>CKM</tt><br/><tt>SM</tt><br/><tt>WET</tt><br/><tt>WET-SMEFT</tt>\n",
       "                            </span>\n",
       "                        </a></td>\n",
       "                            <td class=\"optdef\" rowspan=\"1\"><tt>SM</tt></td>\n",
       "                        </tr>\n",
       "                    \n",
       "                            <tr>\n",
       "                                <td class=\"optkey\" rowspan=\"1\"><tt>form-factors</tt></td>\n",
       "                                <td class=\"optav\"  rowspan=\"1\"><a onclick=\"toggle_av(this, 'grp3-obs2-opt1')\">\n",
       "                            <span class=\"dots\"   id=\"grp3-obs2-opt1\" style=\"display: inline; text-align: left\">...</span>\n",
       "                            <span class=\"values\" id=\"grp3-obs2-opt1\" style=\"display: none;   text-align: left\">\n",
       "                           <tt>B-LCSR</tt><br/><tt>BCL2008</tt><br/><tt>BCL2008-4</tt><br/><tt>BCL2008-5</tt><br/><tt>BFW2010</tt><br/><tt>BGL1997</tt><br/><tt>BSZ2015</tt><br/><tt>BZ2004v2</tt><br/><tt>BZ2004v2Split</tt><br/><tt>DKMMO2008</tt><br/><tt>HQET</tt><br/><tt>KMPW2010</tt>\n",
       "                            </span>\n",
       "                        </a></td>\n",
       "                                <td class=\"optdef\" rowspan=\"1\"><tt></tt></td>\n",
       "                            </tr>\n",
       "                        \n",
       "                            <tr>\n",
       "                                <td class=\"optkey\" rowspan=\"1\"><tt>l</tt></td>\n",
       "                                <td class=\"optav\"  rowspan=\"1\"><a onclick=\"toggle_av(this, 'grp3-obs2-opt2')\">\n",
       "                            <span class=\"dots\"   id=\"grp3-obs2-opt2\" style=\"display: inline; text-align: left\">...</span>\n",
       "                            <span class=\"values\" id=\"grp3-obs2-opt2\" style=\"display: none;   text-align: left\">\n",
       "                           <tt>e</tt><br/><tt>mu</tt><br/><tt>tau</tt>\n",
       "                            </span>\n",
       "                        </a></td>\n",
       "                                <td class=\"optdef\" rowspan=\"1\"><tt>mu</tt></td>\n",
       "                            </tr>\n",
       "                        \n",
       "                            <tr>\n",
       "                                <td class=\"optkey\" rowspan=\"1\"><tt>U</tt></td>\n",
       "                                <td class=\"optav\"  rowspan=\"1\"><a onclick=\"toggle_av(this, 'grp3-obs2-opt3')\">\n",
       "                            <span class=\"dots\"   id=\"grp3-obs2-opt3\" style=\"display: inline; text-align: left\">...</span>\n",
       "                            <span class=\"values\" id=\"grp3-obs2-opt3\" style=\"display: none;   text-align: left\">\n",
       "                           <tt>c</tt><br/><tt>u</tt>\n",
       "                            </span>\n",
       "                        </a></td>\n",
       "                                <td class=\"optdef\" rowspan=\"1\"><tt>c</tt></td>\n",
       "                            </tr>\n",
       "                        \n",
       "                            <tr>\n",
       "                                <td class=\"optkey\" rowspan=\"1\"><tt>q</tt></td>\n",
       "                                <td class=\"optav\"  rowspan=\"1\"><a onclick=\"toggle_av(this, 'grp3-obs2-opt4')\">\n",
       "                            <span class=\"dots\"   id=\"grp3-obs2-opt4\" style=\"display: inline; text-align: left\">...</span>\n",
       "                            <span class=\"values\" id=\"grp3-obs2-opt4\" style=\"display: none;   text-align: left\">\n",
       "                           <tt>u</tt><br/><tt>d</tt><br/><tt>s</tt>\n",
       "                            </span>\n",
       "                        </a></td>\n",
       "                                <td class=\"optdef\" rowspan=\"1\"><tt>d</tt></td>\n",
       "                            </tr>\n",
       "                        \n",
       "                            <tr>\n",
       "                                <td class=\"optkey\" rowspan=\"1\"><tt>I</tt></td>\n",
       "                                <td class=\"optav\"  rowspan=\"1\"><a onclick=\"toggle_av(this, 'grp3-obs2-opt5')\">\n",
       "                            <span class=\"dots\"   id=\"grp3-obs2-opt5\" style=\"display: inline; text-align: left\">...</span>\n",
       "                            <span class=\"values\" id=\"grp3-obs2-opt5\" style=\"display: none;   text-align: left\">\n",
       "                           <tt>1</tt><br/><tt>0</tt><br/><tt>1/2</tt>\n",
       "                            </span>\n",
       "                        </a></td>\n",
       "                                <td class=\"optdef\" rowspan=\"1\"><tt>1</tt></td>\n",
       "                            </tr>\n",
       "                        \n",
       "                        <tr>\n",
       "                            <th class=\"qn\"     rowspan=\"6\"><tt>B_s->D_slnu::dBR/dq2</tt></th>\n",
       "                            <td class=\"sym\"    rowspan=\"6\">$$d\\mathcal{B}(B_s\\to \\bar{D}_s\\ell^-\\bar\\nu)/dq^2$$</td>\n",
       "                            <td class=\"unit\"   rowspan=\"6\">$$\\left[ \\textrm{GeV}^{-2} \\right]$$</td>\n",
       "                            <td class=\"kv\"     rowspan=\"6\"><tt>q2</tt></td>\n",
       "                            <td class=\"optkey\" rowspan=\"1\"><tt>model</tt></td>\n",
       "                            <td class=\"optav\"  rowspan=\"1\"><a onclick=\"toggle_av(this, 'grp3-obs3-opt0')\">\n",
       "                            <span class=\"dots\"   id=\"grp3-obs3-opt0\" style=\"display: inline; text-align: left\">...</span>\n",
       "                            <span class=\"values\" id=\"grp3-obs3-opt0\" style=\"display: none;   text-align: left\">\n",
       "                           <tt>CKM</tt><br/><tt>SM</tt><br/><tt>WET</tt><br/><tt>WET-SMEFT</tt>\n",
       "                            </span>\n",
       "                        </a></td>\n",
       "                            <td class=\"optdef\" rowspan=\"1\"><tt>SM</tt></td>\n",
       "                        </tr>\n",
       "                    \n",
       "                            <tr>\n",
       "                                <td class=\"optkey\" rowspan=\"1\"><tt>form-factors</tt></td>\n",
       "                                <td class=\"optav\"  rowspan=\"1\"><a onclick=\"toggle_av(this, 'grp3-obs3-opt1')\">\n",
       "                            <span class=\"dots\"   id=\"grp3-obs3-opt1\" style=\"display: inline; text-align: left\">...</span>\n",
       "                            <span class=\"values\" id=\"grp3-obs3-opt1\" style=\"display: none;   text-align: left\">\n",
       "                           <tt>B-LCSR</tt><br/><tt>BCL2008</tt><br/><tt>BCL2008-4</tt><br/><tt>BCL2008-5</tt><br/><tt>BFW2010</tt><br/><tt>BGL1997</tt><br/><tt>BSZ2015</tt><br/><tt>BZ2004v2</tt><br/><tt>BZ2004v2Split</tt><br/><tt>DKMMO2008</tt><br/><tt>HQET</tt><br/><tt>KMPW2010</tt>\n",
       "                            </span>\n",
       "                        </a></td>\n",
       "                                <td class=\"optdef\" rowspan=\"1\"><tt></tt></td>\n",
       "                            </tr>\n",
       "                        \n",
       "                            <tr>\n",
       "                                <td class=\"optkey\" rowspan=\"1\"><tt>l</tt></td>\n",
       "                                <td class=\"optav\"  rowspan=\"1\"><a onclick=\"toggle_av(this, 'grp3-obs3-opt2')\">\n",
       "                            <span class=\"dots\"   id=\"grp3-obs3-opt2\" style=\"display: inline; text-align: left\">...</span>\n",
       "                            <span class=\"values\" id=\"grp3-obs3-opt2\" style=\"display: none;   text-align: left\">\n",
       "                           <tt>e</tt><br/><tt>mu</tt><br/><tt>tau</tt>\n",
       "                            </span>\n",
       "                        </a></td>\n",
       "                                <td class=\"optdef\" rowspan=\"1\"><tt>mu</tt></td>\n",
       "                            </tr>\n",
       "                        \n",
       "                            <tr>\n",
       "                                <td class=\"optkey\" rowspan=\"1\"><tt>U</tt></td>\n",
       "                                <td class=\"optav\"  rowspan=\"1\"><a onclick=\"toggle_av(this, 'grp3-obs3-opt3')\">\n",
       "                            <span class=\"dots\"   id=\"grp3-obs3-opt3\" style=\"display: inline; text-align: left\">...</span>\n",
       "                            <span class=\"values\" id=\"grp3-obs3-opt3\" style=\"display: none;   text-align: left\">\n",
       "                           <tt>c</tt><br/><tt>u</tt>\n",
       "                            </span>\n",
       "                        </a></td>\n",
       "                                <td class=\"optdef\" rowspan=\"1\"><tt>c</tt></td>\n",
       "                            </tr>\n",
       "                        \n",
       "                            <tr>\n",
       "                                <td class=\"optkey\" rowspan=\"1\"><tt>q</tt></td>\n",
       "                                <td class=\"optav\"  rowspan=\"1\"><a onclick=\"toggle_av(this, 'grp3-obs3-opt4')\">\n",
       "                            <span class=\"dots\"   id=\"grp3-obs3-opt4\" style=\"display: inline; text-align: left\">...</span>\n",
       "                            <span class=\"values\" id=\"grp3-obs3-opt4\" style=\"display: none;   text-align: left\">\n",
       "                           <tt>u</tt><br/><tt>d</tt><br/><tt>s</tt>\n",
       "                            </span>\n",
       "                        </a></td>\n",
       "                                <td class=\"optdef\" rowspan=\"1\"><tt>d</tt></td>\n",
       "                            </tr>\n",
       "                        \n",
       "                            <tr>\n",
       "                                <td class=\"optkey\" rowspan=\"1\"><tt>I</tt></td>\n",
       "                                <td class=\"optav\"  rowspan=\"1\"><a onclick=\"toggle_av(this, 'grp3-obs3-opt5')\">\n",
       "                            <span class=\"dots\"   id=\"grp3-obs3-opt5\" style=\"display: inline; text-align: left\">...</span>\n",
       "                            <span class=\"values\" id=\"grp3-obs3-opt5\" style=\"display: none;   text-align: left\">\n",
       "                           <tt>1</tt><br/><tt>0</tt><br/><tt>1/2</tt>\n",
       "                            </span>\n",
       "                        </a></td>\n",
       "                                <td class=\"optdef\" rowspan=\"1\"><tt>1</tt></td>\n",
       "                            </tr>\n",
       "                            </tbody>\n",
       "                    <tbody>\n",
       "                        <tr>\n",
       "                            <th style=\"text-align:left\" colspan=8>\n",
       "                                <a style=\"text-decoration: none\" onclick=\"toggle_group(this, 'grp6')\">Observables in $B\\to \\bar{D}^* \\ell^-\\bar\\nu$ decays</a>\n",
       "                            </th>\n",
       "                        </tr>\n",
       "                    </tbody>\n",
       "                \n",
       "                    <tbody style=\"visibility:collapse\" id=\"grp6\">\n",
       "                    <tr>\n",
       "                        <td style=\"text-align:left\" colspan=8>The option \"l\" selects the charged lepton flavor. The option \"q\" selects the spectator quark flavor. The option \"form-factors\" selects the form factor parametrization.</td>\n",
       "                    </tr>\n",
       "                \n",
       "                        <tr>\n",
       "                            <th class=\"qn\"     rowspan=\"3\"><tt>B->D^*lnu::BR</tt></th>\n",
       "                            <td class=\"sym\"    rowspan=\"3\">$$\\mathcal{B}(B\\to \\bar{D}^*\\ell^-\\bar\\nu)$$</td>\n",
       "                            <td class=\"unit\"   rowspan=\"3\">&mdash;</td>\n",
       "                            <td class=\"kv\"     rowspan=\"3\"><tt>q2_min</tt><br><tt>q2_max</tt></td>\n",
       "                            <td class=\"optkey\" rowspan=\"1\"><tt>model</tt></td>\n",
       "                            <td class=\"optav\"  rowspan=\"1\"><a onclick=\"toggle_av(this, 'grp6-obs4-opt0')\">\n",
       "                            <span class=\"dots\"   id=\"grp6-obs4-opt0\" style=\"display: inline; text-align: left\">...</span>\n",
       "                            <span class=\"values\" id=\"grp6-obs4-opt0\" style=\"display: none;   text-align: left\">\n",
       "                           <tt>CKM</tt><br/><tt>SM</tt><br/><tt>WET</tt><br/><tt>WET-SMEFT</tt>\n",
       "                            </span>\n",
       "                        </a></td>\n",
       "                            <td class=\"optdef\" rowspan=\"1\"><tt>SM</tt></td>\n",
       "                        </tr>\n",
       "                    \n",
       "                            <tr>\n",
       "                                <td class=\"optkey\" rowspan=\"1\"><tt>form-factors</tt></td>\n",
       "                                <td class=\"optav\"  rowspan=\"1\"><a onclick=\"toggle_av(this, 'grp6-obs4-opt1')\">\n",
       "                            <span class=\"dots\"   id=\"grp6-obs4-opt1\" style=\"display: inline; text-align: left\">...</span>\n",
       "                            <span class=\"values\" id=\"grp6-obs4-opt1\" style=\"display: none;   text-align: left\">\n",
       "                           <tt>B-LCSR</tt><br/><tt>BFW2010</tt><br/><tt>BGL1997</tt><br/><tt>BSZ2015</tt><br/><tt>BZ2004</tt><br/><tt>FMvD2015</tt><br/><tt>HQET</tt><br/><tt>KMPW2010</tt>\n",
       "                            </span>\n",
       "                        </a></td>\n",
       "                                <td class=\"optdef\" rowspan=\"1\"><tt></tt></td>\n",
       "                            </tr>\n",
       "                        \n",
       "                            <tr>\n",
       "                                <td class=\"optkey\" rowspan=\"1\"><tt>l</tt></td>\n",
       "                                <td class=\"optav\"  rowspan=\"1\"><a onclick=\"toggle_av(this, 'grp6-obs4-opt2')\">\n",
       "                            <span class=\"dots\"   id=\"grp6-obs4-opt2\" style=\"display: inline; text-align: left\">...</span>\n",
       "                            <span class=\"values\" id=\"grp6-obs4-opt2\" style=\"display: none;   text-align: left\">\n",
       "                           <tt>e</tt><br/><tt>mu</tt><br/><tt>tau</tt>\n",
       "                            </span>\n",
       "                        </a></td>\n",
       "                                <td class=\"optdef\" rowspan=\"1\"><tt>mu</tt></td>\n",
       "                            </tr>\n",
       "                        \n",
       "                        <tr>\n",
       "                            <th class=\"qn\"     rowspan=\"1\"><tt>B->D^*lnu::BRbar</tt></th>\n",
       "                            <td class=\"sym\"    rowspan=\"1\">$$\\mathcal{B}(B\\to \\bar{D}^*\\ell^-\\bar\\nu)_{\\ell=e,\\mu}$$</td>\n",
       "                            <td class=\"unit\"   rowspan=\"1\">&mdash;</td>\n",
       "                            <td class=\"kv\"     rowspan=\"1\"><tt>q2_e_max</tt><br><tt>q2_e_min</tt><br><tt>q2_mu_max</tt><br><tt>q2_mu_min</tt></td>\n",
       "                            <td class=\"optkey\" rowspan=\"1\">&mdash;</td>\n",
       "                            <td class=\"optav\"  rowspan=\"1\">&mdash;</td>\n",
       "                            <td class=\"optdef\" rowspan=\"1\">&mdash;</td>\n",
       "                        </tr>\n",
       "                    \n",
       "                        <tr>\n",
       "                            <th class=\"qn\"     rowspan=\"1\"><tt>B->D^*lnu::DeltaBR</tt></th>\n",
       "                            <td class=\"sym\"    rowspan=\"1\">$$\\Delta\\mathcal{B}(B\\to \\bar{D}^*\\ell^-\\bar\\nu)_{\\ell=e,\\mu}$$</td>\n",
       "                            <td class=\"unit\"   rowspan=\"1\">&mdash;</td>\n",
       "                            <td class=\"kv\"     rowspan=\"1\"><tt>q2_e_max</tt><br><tt>q2_e_min</tt><br><tt>q2_mu_max</tt><br><tt>q2_mu_min</tt></td>\n",
       "                            <td class=\"optkey\" rowspan=\"1\">&mdash;</td>\n",
       "                            <td class=\"optav\"  rowspan=\"1\">&mdash;</td>\n",
       "                            <td class=\"optdef\" rowspan=\"1\">&mdash;</td>\n",
       "                        </tr>\n",
       "                    \n",
       "                        <tr>\n",
       "                            <th class=\"qn\"     rowspan=\"3\"><tt>B->D^*lnu::dBR/dq2</tt></th>\n",
       "                            <td class=\"sym\"    rowspan=\"3\">$$d\\mathcal{B}(B\\to \\bar{D}^*\\ell^-\\bar\\nu)/dq^2$$</td>\n",
       "                            <td class=\"unit\"   rowspan=\"3\">$$\\left[ \\textrm{GeV}^{-2} \\right]$$</td>\n",
       "                            <td class=\"kv\"     rowspan=\"3\"><tt>q2</tt></td>\n",
       "                            <td class=\"optkey\" rowspan=\"1\"><tt>model</tt></td>\n",
       "                            <td class=\"optav\"  rowspan=\"1\"><a onclick=\"toggle_av(this, 'grp6-obs7-opt0')\">\n",
       "                            <span class=\"dots\"   id=\"grp6-obs7-opt0\" style=\"display: inline; text-align: left\">...</span>\n",
       "                            <span class=\"values\" id=\"grp6-obs7-opt0\" style=\"display: none;   text-align: left\">\n",
       "                           <tt>CKM</tt><br/><tt>SM</tt><br/><tt>WET</tt><br/><tt>WET-SMEFT</tt>\n",
       "                            </span>\n",
       "                        </a></td>\n",
       "                            <td class=\"optdef\" rowspan=\"1\"><tt>SM</tt></td>\n",
       "                        </tr>\n",
       "                    \n",
       "                            <tr>\n",
       "                                <td class=\"optkey\" rowspan=\"1\"><tt>form-factors</tt></td>\n",
       "                                <td class=\"optav\"  rowspan=\"1\"><a onclick=\"toggle_av(this, 'grp6-obs7-opt1')\">\n",
       "                            <span class=\"dots\"   id=\"grp6-obs7-opt1\" style=\"display: inline; text-align: left\">...</span>\n",
       "                            <span class=\"values\" id=\"grp6-obs7-opt1\" style=\"display: none;   text-align: left\">\n",
       "                           <tt>B-LCSR</tt><br/><tt>BFW2010</tt><br/><tt>BGL1997</tt><br/><tt>BSZ2015</tt><br/><tt>BZ2004</tt><br/><tt>FMvD2015</tt><br/><tt>HQET</tt><br/><tt>KMPW2010</tt>\n",
       "                            </span>\n",
       "                        </a></td>\n",
       "                                <td class=\"optdef\" rowspan=\"1\"><tt></tt></td>\n",
       "                            </tr>\n",
       "                        \n",
       "                            <tr>\n",
       "                                <td class=\"optkey\" rowspan=\"1\"><tt>l</tt></td>\n",
       "                                <td class=\"optav\"  rowspan=\"1\"><a onclick=\"toggle_av(this, 'grp6-obs7-opt2')\">\n",
       "                            <span class=\"dots\"   id=\"grp6-obs7-opt2\" style=\"display: inline; text-align: left\">...</span>\n",
       "                            <span class=\"values\" id=\"grp6-obs7-opt2\" style=\"display: none;   text-align: left\">\n",
       "                           <tt>e</tt><br/><tt>mu</tt><br/><tt>tau</tt>\n",
       "                            </span>\n",
       "                        </a></td>\n",
       "                                <td class=\"optdef\" rowspan=\"1\"><tt>mu</tt></td>\n",
       "                            </tr>\n",
       "                            </tbody>\n",
       "                    <tbody>\n",
       "                        <tr>\n",
       "                            <th style=\"text-align:left\" colspan=8>\n",
       "                                <a style=\"text-decoration: none\" onclick=\"toggle_group(this, 'grp8')\">Observables in $\\bar{B}_s\\to D_s^* \\ell^-\\bar\\nu$ decays</a>\n",
       "                            </th>\n",
       "                        </tr>\n",
       "                    </tbody>\n",
       "                \n",
       "                    <tbody style=\"visibility:collapse\" id=\"grp8\">\n",
       "                    <tr>\n",
       "                        <td style=\"text-align:left\" colspan=8>The option \"l\" selects the charged lepton flavor.The option \"form-factors\" selects the form factor parametrization.</td>\n",
       "                    </tr>\n",
       "                \n",
       "                        <tr>\n",
       "                            <th class=\"qn\"     rowspan=\"3\"><tt>B_s->D_s^*lnu::BR</tt></th>\n",
       "                            <td class=\"sym\"    rowspan=\"3\">$$\\mathcal{B}(B_s\\to \\bar{D}_s^*\\ell^-\\bar\\nu)$$</td>\n",
       "                            <td class=\"unit\"   rowspan=\"3\">&mdash;</td>\n",
       "                            <td class=\"kv\"     rowspan=\"3\"><tt>q2_min</tt><br><tt>q2_max</tt></td>\n",
       "                            <td class=\"optkey\" rowspan=\"1\"><tt>model</tt></td>\n",
       "                            <td class=\"optav\"  rowspan=\"1\"><a onclick=\"toggle_av(this, 'grp8-obs8-opt0')\">\n",
       "                            <span class=\"dots\"   id=\"grp8-obs8-opt0\" style=\"display: inline; text-align: left\">...</span>\n",
       "                            <span class=\"values\" id=\"grp8-obs8-opt0\" style=\"display: none;   text-align: left\">\n",
       "                           <tt>CKM</tt><br/><tt>SM</tt><br/><tt>WET</tt><br/><tt>WET-SMEFT</tt>\n",
       "                            </span>\n",
       "                        </a></td>\n",
       "                            <td class=\"optdef\" rowspan=\"1\"><tt>SM</tt></td>\n",
       "                        </tr>\n",
       "                    \n",
       "                            <tr>\n",
       "                                <td class=\"optkey\" rowspan=\"1\"><tt>form-factors</tt></td>\n",
       "                                <td class=\"optav\"  rowspan=\"1\"><a onclick=\"toggle_av(this, 'grp8-obs8-opt1')\">\n",
       "                            <span class=\"dots\"   id=\"grp8-obs8-opt1\" style=\"display: inline; text-align: left\">...</span>\n",
       "                            <span class=\"values\" id=\"grp8-obs8-opt1\" style=\"display: none;   text-align: left\">\n",
       "                           <tt>B-LCSR</tt><br/><tt>BFW2010</tt><br/><tt>BGL1997</tt><br/><tt>BSZ2015</tt><br/><tt>BZ2004</tt><br/><tt>FMvD2015</tt><br/><tt>HQET</tt><br/><tt>KMPW2010</tt>\n",
       "                            </span>\n",
       "                        </a></td>\n",
       "                                <td class=\"optdef\" rowspan=\"1\"><tt></tt></td>\n",
       "                            </tr>\n",
       "                        \n",
       "                            <tr>\n",
       "                                <td class=\"optkey\" rowspan=\"1\"><tt>l</tt></td>\n",
       "                                <td class=\"optav\"  rowspan=\"1\"><a onclick=\"toggle_av(this, 'grp8-obs8-opt2')\">\n",
       "                            <span class=\"dots\"   id=\"grp8-obs8-opt2\" style=\"display: inline; text-align: left\">...</span>\n",
       "                            <span class=\"values\" id=\"grp8-obs8-opt2\" style=\"display: none;   text-align: left\">\n",
       "                           <tt>e</tt><br/><tt>mu</tt><br/><tt>tau</tt>\n",
       "                            </span>\n",
       "                        </a></td>\n",
       "                                <td class=\"optdef\" rowspan=\"1\"><tt>mu</tt></td>\n",
       "                            </tr>\n",
       "                        \n",
       "                        <tr>\n",
       "                            <th class=\"qn\"     rowspan=\"3\"><tt>B_s->D_s^*lnu::dBR/dq2</tt></th>\n",
       "                            <td class=\"sym\"    rowspan=\"3\">$$d\\mathcal{B}(B_s\\to \\bar{D}_s^*\\ell^-\\bar\\nu)/dq^2$$</td>\n",
       "                            <td class=\"unit\"   rowspan=\"3\">$$\\left[ \\textrm{GeV}^{-2} \\right]$$</td>\n",
       "                            <td class=\"kv\"     rowspan=\"3\"><tt>q2</tt></td>\n",
       "                            <td class=\"optkey\" rowspan=\"1\"><tt>model</tt></td>\n",
       "                            <td class=\"optav\"  rowspan=\"1\"><a onclick=\"toggle_av(this, 'grp8-obs9-opt0')\">\n",
       "                            <span class=\"dots\"   id=\"grp8-obs9-opt0\" style=\"display: inline; text-align: left\">...</span>\n",
       "                            <span class=\"values\" id=\"grp8-obs9-opt0\" style=\"display: none;   text-align: left\">\n",
       "                           <tt>CKM</tt><br/><tt>SM</tt><br/><tt>WET</tt><br/><tt>WET-SMEFT</tt>\n",
       "                            </span>\n",
       "                        </a></td>\n",
       "                            <td class=\"optdef\" rowspan=\"1\"><tt>SM</tt></td>\n",
       "                        </tr>\n",
       "                    \n",
       "                            <tr>\n",
       "                                <td class=\"optkey\" rowspan=\"1\"><tt>form-factors</tt></td>\n",
       "                                <td class=\"optav\"  rowspan=\"1\"><a onclick=\"toggle_av(this, 'grp8-obs9-opt1')\">\n",
       "                            <span class=\"dots\"   id=\"grp8-obs9-opt1\" style=\"display: inline; text-align: left\">...</span>\n",
       "                            <span class=\"values\" id=\"grp8-obs9-opt1\" style=\"display: none;   text-align: left\">\n",
       "                           <tt>B-LCSR</tt><br/><tt>BFW2010</tt><br/><tt>BGL1997</tt><br/><tt>BSZ2015</tt><br/><tt>BZ2004</tt><br/><tt>FMvD2015</tt><br/><tt>HQET</tt><br/><tt>KMPW2010</tt>\n",
       "                            </span>\n",
       "                        </a></td>\n",
       "                                <td class=\"optdef\" rowspan=\"1\"><tt></tt></td>\n",
       "                            </tr>\n",
       "                        \n",
       "                            <tr>\n",
       "                                <td class=\"optkey\" rowspan=\"1\"><tt>l</tt></td>\n",
       "                                <td class=\"optav\"  rowspan=\"1\"><a onclick=\"toggle_av(this, 'grp8-obs9-opt2')\">\n",
       "                            <span class=\"dots\"   id=\"grp8-obs9-opt2\" style=\"display: inline; text-align: left\">...</span>\n",
       "                            <span class=\"values\" id=\"grp8-obs9-opt2\" style=\"display: none;   text-align: left\">\n",
       "                           <tt>e</tt><br/><tt>mu</tt><br/><tt>tau</tt>\n",
       "                            </span>\n",
       "                        </a></td>\n",
       "                                <td class=\"optdef\" rowspan=\"1\"><tt>mu</tt></td>\n",
       "                            </tr>\n",
       "                            </tbody></table>"
      ],
      "text/plain": [
       "<eos.observable.Observables at 0x7fef4beda0a0>"
      ]
     },
     "execution_count": 2,
     "metadata": {},
     "output_type": "execute_result"
    }
   ],
   "source": [
    "eos.Observables(prefix='D', name='BR')"
   ]
  },
  {
   "cell_type": "markdown",
   "metadata": {},
   "source": [
    "## Constructing and Evaluating an Observable"
   ]
  },
  {
   "cell_type": "markdown",
   "metadata": {},
   "source": [
    "To make theory predictions of any observable, EOS requires its full name, its ``Parameters`` object, its ``Kinematics`` object, and its ``Options`` object. As an example, we will use the integrated branching ratio of $B^-\\to D\\ell^-\\bar\\nu$, which is represented by the name ``B->Dlnu::BR``. The latter is a well formed ``QualifiedName``, which is used throughout EOS to address observables and other objects. Additional information about any given observable can be obtained by displaying the full database entry, which also contains information about the kinematic variables required:"
   ]
  },
  {
   "cell_type": "code",
   "execution_count": 3,
   "metadata": {
    "ExecuteTime": {
     "end_time": "2021-10-21T13:14:05.797896Z",
     "start_time": "2021-10-21T13:14:05.772607Z"
    },
    "scrolled": true
   },
   "outputs": [
    {
     "data": {
      "text/html": [
       "<table>\n",
       "<tr><th>QualifedName</th><td><tt style=\"color:grey\">B->Dlnu::BR</tt></td></tr><tr><th>Description</th><td>$$\\mathcal{B}(B\\to \\bar{D}\\ell^-\\bar\\nu)$$</td></tr><tr><th rowspan=2>Kinematic Variables</th><td>q2_min</td></tr><tr><td>q2_max</td></tr></table>"
      ],
      "text/plain": [
       "<_eos.ObservableEntry at 0x7fef4bed0ad8>"
      ]
     },
     "execution_count": 3,
     "metadata": {},
     "output_type": "execute_result"
    }
   ],
   "source": [
    "eos.Observables()['B->Dlnu::BR']"
   ]
  },
  {
   "cell_type": "markdown",
   "metadata": {},
   "source": [
    "Note that in the above we display a single observable by name using the ``[]`` operator.\n",
    "\n",
    "From the above output we understand that the observable ``B->Dlnu::BR`` expects two kinematic variables, corresponding here to the lower and upper integration boundaries of the dilepton invariant mass ``q2``.\n",
    "\n",
    "We proceed to create an ``Observable`` object for ``B->Dlnu::BR`` with the default set of parameters and options,\n",
    "and then display it:"
   ]
  },
  {
   "cell_type": "code",
   "execution_count": 4,
   "metadata": {
    "ExecuteTime": {
     "end_time": "2021-10-21T13:14:05.994572Z",
     "start_time": "2021-10-21T13:14:05.800758Z"
    }
   },
   "outputs": [
    {
     "data": {
      "text/html": [
       "\n",
       "        <table>\n",
       "            <tr>\n",
       "                <th>B->Dlnu::BR</th>\n",
       "                <td colspan=\"2\">(eos.Observable)</td>\n",
       "            </tr>\n",
       "            <tr>\n",
       "                <th rowspan=\"2\">kinematics</th>\n",
       "                <th>q2_min</th><td>0.02</td>\n",
       "            </tr>\n",
       "            <tr><th>q2_max</th><td>11.6</td></tr>\n",
       "            <tr>\n",
       "                <th rowspan=\"2\">options</th>\n",
       "                <th>I</th><td>1/2</td>\n",
       "            </tr>\n",
       "            <tr><th>U</th><td>c</td></tr>\n",
       "            <tr>\n",
       "                <th>current value</th>\n",
       "                <td colspan=\"2\"><tt>0.02417</tt></td>\n",
       "            </tr>\n",
       "        </table>"
      ],
      "text/plain": [
       "<_eos.Observable at 0x7fef4bed0b30>"
      ]
     },
     "metadata": {},
     "output_type": "display_data"
    }
   ],
   "source": [
    "parameters = eos.Parameters.Defaults()\n",
    "kinematics = eos.Kinematics(q2_min=0.02, q2_max=11.60)\n",
    "obs = eos.Observable.make('B->Dlnu::BR', parameters, kinematics, eos.Options())\n",
    "display(obs)"
   ]
  },
  {
   "cell_type": "markdown",
   "metadata": {},
   "source": [
    "The default option ``l=mu`` select $\\ell=\\mu$ as the lepton flavour. The value of the observable is shown\n",
    "to be about $2.4\\%$,\n",
    "which is compatible with the current world average for the $\\bar{B}^-\\to D^0\\mu^-\\bar\\nu$ branching ratio.\n",
    "\n",
    "By setting the ``l`` option to the value ``tau``, we create a different observable representing the $\\bar{B}^-\\to D^0\\tau^-\\bar\\nu$ branching ratio:"
   ]
  },
  {
   "cell_type": "code",
   "execution_count": 5,
   "metadata": {
    "ExecuteTime": {
     "end_time": "2021-10-21T13:14:06.010353Z",
     "start_time": "2021-10-21T13:14:05.997515Z"
    }
   },
   "outputs": [
    {
     "data": {
      "text/html": [
       "\n",
       "        <table>\n",
       "            <tr>\n",
       "                <th>B->Dlnu::BR</th>\n",
       "                <td colspan=\"2\">(eos.Observable)</td>\n",
       "            </tr>\n",
       "            <tr>\n",
       "                <th rowspan=\"2\">kinematics</th>\n",
       "                <th>q2_min</th><td>3.17</td>\n",
       "            </tr>\n",
       "            <tr><th>q2_max</th><td>11.6</td></tr>\n",
       "            <tr>\n",
       "                <th rowspan=\"3\">options</th>\n",
       "                <th>I</th><td>1/2</td>\n",
       "            </tr>\n",
       "            <tr><th>U</th><td>c</td></tr>\n",
       "<tr><th>l</th><td>tau</td></tr>\n",
       "            <tr>\n",
       "                <th>current value</th>\n",
       "                <td colspan=\"2\"><tt>0.007147</tt></td>\n",
       "            </tr>\n",
       "        </table>"
      ],
      "text/plain": [
       "<_eos.Observable at 0x7fef4bed0be0>"
      ]
     },
     "metadata": {},
     "output_type": "display_data"
    }
   ],
   "source": [
    "kinematics = eos.Kinematics(q2_min=3.17, q2_max=11.60)\n",
    "obs = eos.Observable.make('B->Dlnu::BR', parameters, kinematics, eos.Options(l='tau'))\n",
    "display(obs)"
   ]
  },
  {
   "cell_type": "markdown",
   "metadata": {},
   "source": [
    "The new observable yields a value of $0.71\\%$.\n",
    "\n",
    "So far we evaluated the integrated branching ratio. EOS also provides the corresponding differential branching ratio as a function of the squared momentum transfer $q^2$.\n",
    "The differential branching fraction is accessible through the name ``B->Dlnu::dBR/dq2``.\n",
    "To illustrate it, we use EOS's plot functions:"
   ]
  },
  {
   "cell_type": "code",
   "execution_count": 6,
   "metadata": {
    "ExecuteTime": {
     "end_time": "2021-10-21T13:14:09.734410Z",
     "start_time": "2021-10-21T13:14:06.013163Z"
    }
   },
   "outputs": [
    {
     "name": "stderr",
     "output_type": "stream",
     "text": [
      "INFO:EOS:   plotting EOS observable \"B->Dlnu::dBR/dq2;l=mu\"\n",
      "INFO:EOS:   plotting EOS observable \"B->Dlnu::dBR/dq2;l=tau\"\n",
      "WARNING:matplotlib.font_manager:findfont: Font family ['serif'] not found. Falling back to DejaVu Sans.\n"
     ]
    },
    {
     "data": {
      "image/png": "[encoded data removed]",
      "text/plain": [
       "<Figure size 432x288 with 1 Axes>"
      ]
     },
     "metadata": {
      "needs_background": "light"
     },
     "output_type": "display_data"
    }
   ],
   "source": [
    "plot_args = {\n",
    "    'plot': {\n",
    "        'x': { 'label': r'$q^2$', 'unit': r'$\\textnormal{GeV}^2$', 'range': [0.0, 11.60] },\n",
    "        'y': { 'label': r'$d\\mathcal{B}/dq^2$',                    'range': [0.0,  5e-3] },\n",
    "        'legend': { 'location': 'upper center' }\n",
    "    },\n",
    "    'contents': [\n",
    "        {\n",
    "            'label': r'$\\ell=\\mu$',\n",
    "            'type': 'observable',\n",
    "            'observable': 'B->Dlnu::dBR/dq2;l=mu',\n",
    "            'variable': 'q2',\n",
    "            'range': [0.02, 11.60],\n",
    "        },\n",
    "        {\n",
    "            'label': r'$\\ell=\\tau$',\n",
    "            'type': 'observable',\n",
    "            'observable': 'B->Dlnu::dBR/dq2;l=tau',\n",
    "            'variable': 'q2',\n",
    "            'range': [3.17, 11.60],\n",
    "        }\n",
    "    ]\n",
    "}\n",
    "eos.plot.Plotter(plot_args).plot()"
   ]
  },
  {
   "cell_type": "markdown",
   "metadata": {},
   "source": [
    "## Estimating Theory Uncertainties"
   ]
  },
  {
   "cell_type": "markdown",
   "metadata": {},
   "source": [
    "To estimate theoretical uncertainties of the observables, EOS uses Bayesian statistics.\n",
    "The latter interprets the theory parameters as random variables and assigns *a priori*\n",
    "probability density functions (prior PDFs) for each parameter.\n",
    "\n",
    "We carry on using the integrated branching ratios of $`\\bar{B}^-\\to D^0\\left\\lbrace\\mu^-, \\tau^-\\right\\rbrace\\bar\\nu$ decays as examples.\n",
    "The largest source of theoretical uncertainty in these decays arises from the hadronic matrix elements, i.e.,\n",
    "from the form factors $f^{B\\to \\bar{D}}_+(q^2)$ and $f^{B\\to \\bar{D}}_0(q^2)$.\n",
    "Both form factors have been obtained independently using lattice QCD simulations by the HPQCD and Fermilab/MILC (FNAL+MILC) collaborations.\n",
    "The joint likelihoods for both form factors at different $q^2$ values of each prediction are available in EOS as `Constraint` objects under the names ``B->D::f_++f_0@HPQCD2015A`` and ``B->D::f_++f_0@FNAL+MILC2015B``.\n",
    "We will discuss such constraints in more detail in the next example notebook on parameter inference.\n",
    "For this example, we will use both the HPQCD and the FNAL+MILC results and create a combined likelihood as follows:"
   ]
  },
  {
   "cell_type": "code",
   "execution_count": 7,
   "metadata": {
    "ExecuteTime": {
     "end_time": "2021-10-21T13:14:11.561087Z",
     "start_time": "2021-10-21T13:14:09.742304Z"
    }
   },
   "outputs": [
    {
     "name": "stderr",
     "output_type": "stream",
     "text": [
      "INFO:EOS:Creating analysis with 5 priors, 2 EOS-wide constraints, 0 global options, 0 manually-entered constraints and 0 fixed parameters.\n",
      "INFO:EOS:likelihood probably depends on 3 parameter(s) that do not appear in the prior; check prior?\n"
     ]
    }
   ],
   "source": [
    "analysis_args = {\n",
    "    'priors': [\n",
    "        { 'parameter': 'B->D::alpha^f+_0@BSZ2015', 'min':  0.0, 'max':  1.0, 'type': 'uniform' },\n",
    "        { 'parameter': 'B->D::alpha^f+_1@BSZ2015', 'min': -5.0, 'max': +5.0, 'type': 'uniform' },\n",
    "        { 'parameter': 'B->D::alpha^f+_2@BSZ2015', 'min': -5.0, 'max': +5.0, 'type': 'uniform' },\n",
    "        { 'parameter': 'B->D::alpha^f0_1@BSZ2015', 'min': -5.0, 'max': +5.0, 'type': 'uniform' },\n",
    "        { 'parameter': 'B->D::alpha^f0_2@BSZ2015', 'min': -5.0, 'max': +5.0, 'type': 'uniform' }\n",
    "    ],\n",
    "    'likelihood': [\n",
    "        'B->D::f_++f_0@HPQCD:2015A',\n",
    "        'B->D::f_++f_0@FNAL+MILC:2015B'\n",
    "    ]\n",
    "}\n",
    "analysis = eos.Analysis(**analysis_args)"
   ]
  },
  {
   "cell_type": "markdown",
   "metadata": {},
   "source": [
    "Next we create three observables: the semi-muonic branching ratio, the semi-tauonic branching ratio, and the ratio of the former two.\n",
    "By using `analysis.parameter` in the construction of these observables, we ensure that our observables and the `Analysis` object share the same parameter set. This means that changes to the `Analysis`' parameters will affect the evaluation of all three observables."
   ]
  },
  {
   "cell_type": "code",
   "execution_count": 8,
   "metadata": {
    "ExecuteTime": {
     "end_time": "2021-10-21T13:14:11.581174Z",
     "start_time": "2021-10-21T13:14:11.565588Z"
    }
   },
   "outputs": [],
   "source": [
    "obs_mu  = eos.Observable.make(\n",
    "    'B->Dlnu::BR',\n",
    "    analysis.parameters,\n",
    "    eos.Kinematics(q2_min=0.02, q2_max=11.60),\n",
    "    eos.Options({'l':'mu', 'form-factors':'BSZ2015'})\n",
    ")\n",
    "obs_tau = eos.Observable.make(\n",
    "    'B->Dlnu::BR',\n",
    "    analysis.parameters,\n",
    "    eos.Kinematics(q2_min=3.17, q2_max=11.60),\n",
    "    eos.Options({'l':'tau','form-factors':'BSZ2015'})\n",
    ")\n",
    "obs_R_D = eos.Observable.make(\n",
    "    'B->Dlnu::R_D',\n",
    "    analysis.parameters,\n",
    "    eos.Kinematics(q2_mu_min=0.02, q2_mu_max=11.60, q2_tau_min=3.17, q2_tau_max=11.60),\n",
    "    eos.Options({'form-factors':'BSZ2015'})\n",
    ")\n",
    "observables=(obs_mu, obs_tau, obs_R_D)"
   ]
  },
  {
   "cell_type": "markdown",
   "metadata": {},
   "source": [
    "In the above, we made sure to provide the option :code:`form-factors=BSZ2015` to ensure that the right form factor plugin is used.\n",
    "\n",
    "Sampling from the log(posterior) and -- at the same time -- producing posterior-predictive samples of the three observables is achieved as follows:"
   ]
  },
  {
   "cell_type": "code",
   "execution_count": 9,
   "metadata": {
    "ExecuteTime": {
     "end_time": "2021-10-21T13:14:39.797617Z",
     "start_time": "2021-10-21T13:14:11.584844Z"
    }
   },
   "outputs": [
    {
     "data": {
      "application/vnd.jupyter.widget-view+json": {
       "model_id": "df3abed88c59421a8013c1421dd049d3",
       "version_major": 2,
       "version_minor": 0
      },
      "text/plain": [
       "Pre-runs:   0%|          | 0/3 [00:00<?, ?it/s]"
      ]
     },
     "metadata": {},
     "output_type": "display_data"
    },
    {
     "name": "stderr",
     "output_type": "stream",
     "text": [
      "INFO:EOS:Prerun 0 out of 3\n",
      "INFO:EOS:Prerun 0: acceptance rate is   2%\n",
      "INFO:EOS:Prerun 1 out of 3\n",
      "INFO:EOS:Prerun 1: acceptance rate is   3%\n",
      "INFO:EOS:Prerun 2 out of 3\n",
      "INFO:EOS:Prerun 2: acceptance rate is  12%\n",
      "INFO:EOS:Main run: started ...\n"
     ]
    },
    {
     "data": {
      "application/vnd.jupyter.widget-view+json": {
       "model_id": "0a8ea1a686754ccfb385882f7f5b5233",
       "version_major": 2,
       "version_minor": 0
      },
      "text/plain": [
       "Main run:   0%|          | 0/100 [00:00<?, ?it/s]"
      ]
     },
     "metadata": {},
     "output_type": "display_data"
    },
    {
     "name": "stderr",
     "output_type": "stream",
     "text": [
      "INFO:EOS:Main run: acceptance rate is  28%\n"
     ]
    }
   ],
   "source": [
    "parameter_samples, _, observable_samples = analysis.sample(N=5000, pre_N=1000, observables=observables)"
   ]
  },
  {
   "cell_type": "markdown",
   "metadata": {},
   "source": [
    "Here `N=5000` samples are produced. To illustrate these samples we use EOS' plotting framework:"
   ]
  },
  {
   "cell_type": "code",
   "execution_count": 10,
   "metadata": {
    "ExecuteTime": {
     "end_time": "2021-10-21T13:14:40.664260Z",
     "start_time": "2021-10-21T13:14:39.801643Z"
    },
    "scrolled": true
   },
   "outputs": [
    {
     "data": {
      "image/png": "[encoded data removed]",
      "text/plain": [
       "<Figure size 432x288 with 1 Axes>"
      ]
     },
     "metadata": {
      "needs_background": "light"
     },
     "output_type": "display_data"
    }
   ],
   "source": [
    "plot_args = {\n",
    "    'plot': {\n",
    "        'x': { 'label': r'$d\\mathcal{B}/dq^2$',  'range': [0.0,  3e-2] },\n",
    "        'legend': { 'location': 'upper center' }\n",
    "    },\n",
    "    'contents': [\n",
    "        { 'label': r'$\\ell=\\mu$', 'type': 'histogram', 'bins': 30, 'data': { 'samples': observable_samples[:, 0] }},\n",
    "        { 'label': r'$\\ell=\\tau$','type': 'histogram', 'bins': 30, 'data': { 'samples': observable_samples[:, 1] }},\n",
    "    ]\n",
    "}\n",
    "eos.plot.Plotter(plot_args).plot()"
   ]
  },
  {
   "cell_type": "markdown",
   "metadata": {},
   "source": [
    "We can convince ourselves of the usefullness of the correlated samples by computing the lepton-flavour universality ratio $R_D$ twice: once using EOS' built-in observable ``B->Dlnu::R_D`` as sampled above,\n",
    "and once by calculating the ratio manually for each sample:"
   ]
  },
  {
   "cell_type": "code",
   "execution_count": 11,
   "metadata": {
    "ExecuteTime": {
     "end_time": "2021-10-21T13:14:42.010687Z",
     "start_time": "2021-10-21T13:14:40.667044Z"
    }
   },
   "outputs": [
    {
     "data": {
      "image/png": "[encoded data removed]",
      "text/plain": [
       "<Figure size 432x288 with 1 Axes>"
      ]
     },
     "metadata": {
      "needs_background": "light"
     },
     "output_type": "display_data"
    }
   ],
   "source": [
    "plot_args = {\n",
    "    'plot': {\n",
    "        'x': { 'label': r'$d\\mathcal{B}/dq^2$',  'range': [0.28,  0.32] },\n",
    "        'legend': { 'location': 'upper left' }\n",
    "    },\n",
    "    'contents': [\n",
    "        { 'label': r'$R_D$ (EOS)',     'type': 'histogram', 'bins': 30, 'color': 'C3', 'data': { 'samples': observable_samples[:, 2] }},\n",
    "        { 'label': r'$R_D$ (manually)','type': 'histogram', 'bins': 30, 'color': 'C4', 'data': { 'samples': [o[1] / o[0] for o in observable_samples[:]] },\n",
    "          'histtype': 'step'},\n",
    "    ]\n",
    "}\n",
    "eos.plot.Plotter(plot_args).plot()"
   ]
  },
  {
   "cell_type": "markdown",
   "metadata": {},
   "source": [
    "Using the Numpy routines ``numpy.average`` and ``numpy.var`` we can produce numerical estimates\n",
    "of the mean and the standard deviation:"
   ]
  },
  {
   "cell_type": "code",
   "execution_count": 12,
   "metadata": {
    "ExecuteTime": {
     "end_time": "2021-10-21T13:14:42.029241Z",
     "start_time": "2021-10-21T13:14:42.013423Z"
    }
   },
   "outputs": [
    {
     "name": "stdout",
     "output_type": "stream",
     "text": [
      "B->Dlnu::BR;I=1/2,U=c,form-factors=BSZ2015,l=mu  = 0.0235 +/- 0.0006\n",
      "B->Dlnu::BR;I=1/2,U=c,form-factors=BSZ2015,l=tau = 0.0071 +/- 0.0001\n",
      "B->Dlnu::R_D;form-factors=BSZ2015          = 0.3015 +/- 0.0001\n"
     ]
    }
   ],
   "source": [
    "import numpy as np\n",
    "\n",
    "print('{obs};{opt}  = {mean:.4f} +/- {std:.4f}'.format(\n",
    "    obs=obs_mu.name(), opt=obs_mu.options(),\n",
    "    mean=np.average(observable_samples[:,0]),\n",
    "    std=np.sqrt(np.var(observable_samples[:, 0]))\n",
    "))\n",
    "print('{obs};{opt} = {mean:.4f} +/- {std:.4f}'.format(\n",
    "    obs=obs_tau.name(), opt=obs_tau.options(),\n",
    "    mean=np.average(observable_samples[:,1]),\n",
    "    std=np.sqrt(np.var(observable_samples[:, 1]))\n",
    "))\n",
    "print('{obs};{opt}          = {mean:.4f} +/- {std:.4f}'.format(\n",
    "    obs=obs_R_D.name(), opt=obs_R_D.options(),\n",
    "    mean=np.average(observable_samples[:,2]),\n",
    "    std=np.sqrt(np.var(observable_samples[:, 1]))\n",
    "))"
   ]
  },
  {
   "cell_type": "markdown",
   "metadata": {},
   "source": [
    "To obtain uncertainty bands for a plot of the differential branching ratios, we can now produce a\n",
    "sequence of observables at different points in phase space. We then pass these observables on to\n",
    "``analysis.sample``, to obtain posterior-predictive samples:"
   ]
  },
  {
   "cell_type": "code",
   "execution_count": 13,
   "metadata": {
    "ExecuteTime": {
     "end_time": "2021-10-21T13:14:58.025653Z",
     "start_time": "2021-10-21T13:14:42.032679Z"
    },
    "scrolled": true
   },
   "outputs": [
    {
     "data": {
      "application/vnd.jupyter.widget-view+json": {
       "model_id": "796b91f458884ab5b761ba7241454111",
       "version_major": 2,
       "version_minor": 0
      },
      "text/plain": [
       "Pre-runs:   0%|          | 0/3 [00:00<?, ?it/s]"
      ]
     },
     "metadata": {},
     "output_type": "display_data"
    },
    {
     "name": "stderr",
     "output_type": "stream",
     "text": [
      "INFO:EOS:Prerun 0 out of 3\n",
      "INFO:EOS:Prerun 0: acceptance rate is   2%\n",
      "INFO:EOS:Prerun 1 out of 3\n",
      "INFO:EOS:Prerun 1: acceptance rate is   4%\n",
      "INFO:EOS:Prerun 2 out of 3\n",
      "INFO:EOS:Prerun 2: acceptance rate is  14%\n",
      "INFO:EOS:Main run: started ...\n"
     ]
    },
    {
     "data": {
      "application/vnd.jupyter.widget-view+json": {
       "model_id": "7b34dfeaf04e40b78470b3ca7c132270",
       "version_major": 2,
       "version_minor": 0
      },
      "text/plain": [
       "Main run:   0%|          | 0/100 [00:00<?, ?it/s]"
      ]
     },
     "metadata": {},
     "output_type": "display_data"
    },
    {
     "name": "stderr",
     "output_type": "stream",
     "text": [
      "INFO:EOS:Main run: acceptance rate is  32%\n"
     ]
    },
    {
     "data": {
      "application/vnd.jupyter.widget-view+json": {
       "model_id": "bc1959beace64f488186120d6cceeaaa",
       "version_major": 2,
       "version_minor": 0
      },
      "text/plain": [
       "Pre-runs:   0%|          | 0/3 [00:00<?, ?it/s]"
      ]
     },
     "metadata": {},
     "output_type": "display_data"
    },
    {
     "name": "stderr",
     "output_type": "stream",
     "text": [
      "INFO:EOS:Prerun 0 out of 3\n",
      "INFO:EOS:Prerun 0: acceptance rate is   2%\n",
      "INFO:EOS:Prerun 1 out of 3\n",
      "INFO:EOS:Prerun 1: acceptance rate is   3%\n",
      "INFO:EOS:Prerun 2 out of 3\n",
      "INFO:EOS:Prerun 2: acceptance rate is  18%\n",
      "INFO:EOS:Main run: started ...\n"
     ]
    },
    {
     "data": {
      "application/vnd.jupyter.widget-view+json": {
       "model_id": "8c3a5ccd68f14f0785c036124725209e",
       "version_major": 2,
       "version_minor": 0
      },
      "text/plain": [
       "Main run:   0%|          | 0/100 [00:00<?, ?it/s]"
      ]
     },
     "metadata": {},
     "output_type": "display_data"
    },
    {
     "name": "stderr",
     "output_type": "stream",
     "text": [
      "INFO:EOS:Main run: acceptance rate is  29%\n"
     ]
    }
   ],
   "source": [
    "mu_q2values  = np.unique(np.concatenate((np.linspace(0.02,  1.00, 20), np.linspace(1.00, 11.60, 20))))\n",
    "mu_obs       = [eos.Observable.make(\n",
    "                   'B->Dlnu::dBR/dq2', analysis.parameters, eos.Kinematics(q2=q2),\n",
    "                   eos.Options({'form-factors': 'BSZ2015', 'l': 'mu'}))\n",
    "               for q2 in mu_q2values]\n",
    "tau_q2values = np.linspace(3.17, 11.60, 40)\n",
    "tau_obs      = [eos.Observable.make(\n",
    "                   'B->Dlnu::dBR/dq2', analysis.parameters, eos.Kinematics(q2=q2),\n",
    "                   eos.Options({'form-factors': 'BSZ2015', 'l': 'tau'}))\n",
    "               for q2 in tau_q2values]\n",
    "\n",
    "_, _, mu_samples  = analysis.sample(N=5000, pre_N=1000, observables=mu_obs)\n",
    "_, _, tau_samples = analysis.sample(N=5000, pre_N=1000, observables=tau_obs)"
   ]
  },
  {
   "cell_type": "markdown",
   "metadata": {},
   "source": [
    "We can plot the so-obtained posterior-predictive samples with EOS' plotting framework by running:"
   ]
  },
  {
   "cell_type": "code",
   "execution_count": 14,
   "metadata": {
    "ExecuteTime": {
     "end_time": "2021-10-21T13:14:58.765178Z",
     "start_time": "2021-10-21T13:14:58.034351Z"
    }
   },
   "outputs": [
    {
     "data": {
      "image/png": "[encoded data removed]",
      "text/plain": [
       "<Figure size 432x288 with 1 Axes>"
      ]
     },
     "metadata": {
      "needs_background": "light"
     },
     "output_type": "display_data"
    }
   ],
   "source": [
    "plot_args = {\n",
    "    'plot': {\n",
    "        'x': { 'label': r'$q^2$', 'unit': r'$\\textnormal{GeV}^2$', 'range': [0.0, 11.60] },\n",
    "        'y': { 'label': r'$d\\mathcal{B}/dq^2$',                    'range': [0.0,  5e-3] },\n",
    "        'legend': { 'location': 'upper center' }\n",
    "    },\n",
    "    'contents': [\n",
    "        {\n",
    "          'label': r'$\\ell=\\mu$', 'type': 'uncertainty', 'range': [0.02, 11.60],\n",
    "          'data': { 'samples': mu_samples, 'xvalues': mu_q2values }\n",
    "        },\n",
    "        {\n",
    "          'label': r'$\\ell=\\tau$','type': 'uncertainty', 'range': [3.17, 11.60],\n",
    "          'data': { 'samples': tau_samples, 'xvalues': tau_q2values }\n",
    "        },\n",
    "    ]\n",
    "}\n",
    "eos.plot.Plotter(plot_args).plot()"
   ]
  }
 ],
 "metadata": {
  "kernelspec": {
   "display_name": "Python 3",
   "language": "python",
   "name": "python3"
  },
  "language_info": {
   "codemirror_mode": {
    "name": "ipython",
    "version": 3
   },
   "file_extension": ".py",
   "mimetype": "text/x-python",
   "name": "python",
   "nbconvert_exporter": "python",
   "pygments_lexer": "ipython3",
   "version": "3.6.9"
  },
  "toc": {
   "base_numbering": 1,
   "nav_menu": {},
   "number_sections": true,
   "sideBar": true,
   "skip_h1_title": false,
   "title_cell": "Table of Contents",
   "title_sidebar": "Contents",
   "toc_cell": false,
   "toc_position": {},
   "toc_section_display": true,
   "toc_window_display": false
  }
 },
 "nbformat": 4,
 "nbformat_minor": 2
}
